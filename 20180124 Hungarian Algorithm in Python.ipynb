{
 "cells": [
  {
   "cell_type": "markdown",
   "metadata": {},
   "source": [
    "# Hungarian algorithm in Python\n",
    "The purpose of this exercise is to get familiar with solver as presented in __[https://docs.scipy.org/doc/scipy-0.18.1/reference/generated/scipy.optimize.linear_sum_assignment.html](https://docs.scipy.org/doc/scipy-0.18.1/reference/generated/scipy.optimize.linear_sum_assignment.html)__"
   ]
  },
  {
   "cell_type": "code",
   "execution_count": 1,
   "metadata": {},
   "outputs": [],
   "source": [
    "from scipy.optimize import linear_sum_assignment\n",
    "import numpy as np\n",
    "import matplotlib.pyplot as plt\n",
    "%matplotlib inline\n",
    "import time"
   ]
  },
  {
   "cell_type": "code",
   "execution_count": 2,
   "metadata": {
    "scrolled": false
   },
   "outputs": [
    {
     "name": "stdout",
     "output_type": "stream",
     "text": [
      "Time taken to solve: 0.0009999275207519531 sec\n"
     ]
    },
    {
     "data": {
      "image/png": "[encoded data removed]",
      "text/plain": [
       "<matplotlib.figure.Figure at 0x17b9751b2e8>"
      ]
     },
     "metadata": {},
     "output_type": "display_data"
    },
    {
     "name": "stdout",
     "output_type": "stream",
     "text": [
      "True correspondences:\n",
      "[0 1 2 3 4]\n",
      "[4 0 3 2 1]\n",
      "Inferred correspondences:\n",
      "[1 4 3 2 0]\n",
      "[0 1 2 3 4]\n"
     ]
    }
   ],
   "source": [
    "N = 5\n",
    "\n",
    "# Create ground-truth (GT) and detections by introducing random gaussian noise\n",
    "gt = np.random.uniform(-1,1,(N,2))\n",
    "dets_orig = gt + np.random.normal(0,0.5,(N,2))\n",
    "\n",
    "# Let's shuffle the detections\n",
    "idx = np.argsort(np.random.uniform(0,1,(N,)))\n",
    "dets = dets_orig[idx,]\n",
    "\n",
    "# Let's plot the situation BEFORE any solving\n",
    "plt.figure(figsize=(12,4))\n",
    "plt.subplot(1,3,1)\n",
    "plt.plot( gt[:,0], gt[:,1], 'gx' )\n",
    "plt.plot( dets[:,0], dets[:,1], 'rx' )\n",
    "for i in range(0,N):\n",
    "    plt.text( gt[i,0], gt[i,1], '{}'.format(i) )\n",
    "    plt.text( dets[i,0], dets[i,1], '{}'.format(i) )\n",
    "plt.legend(['Ground truth', 'Detections'])\n",
    "plt.axis('equal')\n",
    "plt.axis([-2,2,-2,2])\n",
    "plt.grid()\n",
    "plt.title('Situation BEFORE solving')\n",
    "\n",
    "\n",
    "\n",
    "\n",
    "# Let's create the cost matrix (row index is the GT and col index is the Detection)\n",
    "C = np.zeros((N,N))\n",
    "for i in range(0,N):\n",
    "    for j in range(0,N):\n",
    "        # We are just using L2 norm for the cost\n",
    "        cost = np.linalg.norm( gt[i,]-dets[j,] )\n",
    "        C[i,j] = cost\n",
    "\n",
    "# Let's visualize the cost matrix\n",
    "plt.subplot(1,3,2)\n",
    "plt.imshow(C)\n",
    "plt.title('Cost matrix visualization')\n",
    "\n",
    "# ... and solve the problem using \"linear_sum_assignment\" function given the cost matrix C\n",
    "start = time.time()\n",
    "row_ind, col_ind = linear_sum_assignment(C)\n",
    "stop = time.time()\n",
    "print('Time taken to solve: {} sec'.format(stop-start))\n",
    "\n",
    "# Let's plot the output\n",
    "plt.subplot(1,3,3)\n",
    "plt.plot( gt[row_ind,0], gt[row_ind,1], 'gx' )\n",
    "plt.plot( dets[col_ind,0], dets[col_ind,1], 'rx' )\n",
    "for i in range(0,N):\n",
    "    plt.plot( [ gt[row_ind[i],0], dets[col_ind[i],0] ], [ gt[row_ind[i],1], dets[col_ind[i],1] ], 'b--' )\n",
    "plt.legend(['Ground truth', 'Detections'])\n",
    "plt.axis('equal')\n",
    "plt.axis([-2,2,-2,2])\n",
    "plt.grid()\n",
    "plt.title('Situation AFTER solving')\n",
    "plt.show()\n",
    "\n",
    "# And let's visualize the index-based correspondences\n",
    "print('True correspondences:')\n",
    "print(np.array(range(N)))\n",
    "print(idx)\n",
    "\n",
    "print('Inferred correspondences:')\n",
    "print(col_ind)\n",
    "print(row_ind)"
   ]
  }
 ],
 "metadata": {
  "kernelspec": {
   "display_name": "Python 3",
   "language": "python",
   "name": "python3"
  },
  "language_info": {
   "codemirror_mode": {
    "name": "ipython",
    "version": 3
   },
   "file_extension": ".py",
   "mimetype": "text/x-python",
   "name": "python",
   "nbconvert_exporter": "python",
   "pygments_lexer": "ipython3",
   "version": "3.5.4"
  }
 },
 "nbformat": 4,
 "nbformat_minor": 2
}
